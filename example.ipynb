{
 "cells": [
  {
   "cell_type": "code",
   "execution_count": 1,
   "metadata": {},
   "outputs": [
    {
     "name": "stdout",
     "output_type": "stream",
     "text": [
      "env: ANYWIDGET_HMR=1\n"
     ]
    }
   ],
   "source": [
    "%load_ext autoreload\n",
    "%autoreload 2\n",
    "%env ANYWIDGET_HMR=1"
   ]
  },
  {
   "cell_type": "code",
   "execution_count": 2,
   "metadata": {},
   "outputs": [],
   "source": [
    "import pandas as pd\n",
    "import numpy as np\n",
    "\n",
    "data = [\n",
    "      {\"category\":\"A\", \"group\": \"x\", \"value\":0.1},\n",
    "      {\"category\":\"A\", \"group\": \"y\", \"value\":0.6},\n",
    "      {\"category\":\"A\", \"group\": \"z\", \"value\":0.9},\n",
    "      {\"category\":\"B\", \"group\": \"x\", \"value\":0.7},\n",
    "      {\"category\":\"B\", \"group\": \"y\", \"value\":0.2},\n",
    "      {\"category\":\"B\", \"group\": \"z\", \"value\":1.1},\n",
    "      {\"category\":\"C\", \"group\": \"x\", \"value\":0.6},\n",
    "      {\"category\":\"C\", \"group\": \"y\", \"value\":0.1},\n",
    "      {\"category\":\"C\", \"group\": \"z\", \"value\":0.2}\n",
    "    ]\n",
    "# Criando o DataFrame\n",
    "df = pd.DataFrame(data)"
   ]
  },
  {
   "cell_type": "code",
   "execution_count": 3,
   "metadata": {},
   "outputs": [
    {
     "data": {
      "application/vnd.jupyter.widget-view+json": {
       "model_id": "d70e7225a52d46ebb89fc73ae7c02256",
       "version_major": 2,
       "version_minor": 1
      },
      "text/plain": [
       "CrossChart(columns_info=[{'column': 'category', 'type': 'object'}, {'column': 'group', 'type': 'object'}, {'co…"
      ]
     },
     "execution_count": 3,
     "metadata": {},
     "output_type": "execute_result"
    }
   ],
   "source": [
    "from cross_chart import CrossChart\n",
    "CrossChart(df)"
   ]
  }
 ],
 "metadata": {
  "kernelspec": {
   "display_name": "Python 3 (ipykernel)",
   "language": "python",
   "name": "python3"
  },
  "language_info": {
   "codemirror_mode": {
    "name": "ipython",
    "version": 3
   },
   "file_extension": ".py",
   "mimetype": "text/x-python",
   "name": "python",
   "nbconvert_exporter": "python",
   "pygments_lexer": "ipython3",
   "version": "3.11.4"
  }
 },
 "nbformat": 4,
 "nbformat_minor": 4
}
